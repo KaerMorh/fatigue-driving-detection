{
 "cells": [
  {
   "cell_type": "code",
   "execution_count": 4,
   "metadata": {
    "ExecuteTime": {
     "end_time": "2023-08-19T16:40:57.522860300Z",
     "start_time": "2023-08-19T16:40:56.727734200Z"
    }
   },
   "outputs": [
    {
     "data": {
      "application/vnd.jupyter.widget-view+json": {
       "model_id": "24630efc972a4dbeb96ff94f8ab81779",
       "version_major": 2,
       "version_minor": 0
      },
      "text/plain": [
       "interactive(children=(FloatSlider(value=30.0, description='Elevation:', max=90.0, step=1.0), FloatSlider(value…"
      ]
     },
     "metadata": {},
     "output_type": "display_data"
    }
   ],
   "source": [
    "import numpy as np\n",
    "import matplotlib.pyplot as plt\n",
    "from mpl_toolkits.mplot3d import Axes3D\n",
    "import ipywidgets as widgets\n",
    "from IPython.display import display\n",
    "\n",
    "# Define target boundaries\n",
    "a, b = 1, 4\n",
    "\n",
    "# Define base prediction boundaries\n",
    "c_base, d_base = 1, 4\n",
    "\n",
    "# Corrected IoU calculation function\n",
    "def corrected_calculate_iou(c, d):\n",
    "    intersection = max(0, min(b, d) - max(a, c))\n",
    "    union = (b - a) + (d - c) - intersection\n",
    "    return intersection / union\n",
    "\n",
    "# Define a range of changes for left and right boundaries\n",
    "boundary_changes = np.linspace(-1, 1, 50)\n",
    "\n",
    "# Create a meshgrid for calculating IoU for different combinations of boundary changes\n",
    "left_changes, right_changes = np.meshgrid(boundary_changes, boundary_changes)\n",
    "iou_values = np.zeros_like(left_changes)\n",
    "\n",
    "# Calculate IoU for each combination of boundary changes\n",
    "for i in range(left_changes.shape[0]):\n",
    "    for j in range(left_changes.shape[1]):\n",
    "        left_change = left_changes[i, j]\n",
    "        right_change = right_changes[i, j]\n",
    "        iou_values[i, j] = corrected_calculate_iou(c_base + left_change, d_base + right_change)\n",
    "\n",
    "# Function to plot 3D surface\n",
    "def plot_3d(elevation=30, azimuth=30):\n",
    "    fig = plt.figure(figsize=(10, 8))\n",
    "    ax = fig.add_subplot(111, projection='3d')\n",
    "    ax.plot_surface(left_changes, right_changes, iou_values, cmap='viridis')\n",
    "    ax.set_xlabel('Left Boundary Change (s)')\n",
    "    ax.set_ylabel('Right Boundary Change (s)')\n",
    "    ax.set_zlabel('IoU')\n",
    "    ax.set_title('Impact of Left and Right Boundary Changes on IoU')\n",
    "    ax.view_init(elev=elevation, azim=azimuth)\n",
    "    plt.show()\n",
    "\n",
    "# Create widgets for elevation and azimuth\n",
    "elevation_slider = widgets.FloatSlider(min=0, max=90, step=1, value=30, description='Elevation:')\n",
    "azimuth_slider = widgets.FloatSlider(min=0, max=360, step=1, value=30, description='Azimuth:')\n",
    "\n",
    "# Display interactive plot\n",
    "widgets.interactive(plot_3d, elevation=elevation_slider, azimuth=azimuth_slider)\n"
   ]
  },
  {
   "cell_type": "code",
   "execution_count": 7,
   "metadata": {
    "ExecuteTime": {
     "end_time": "2023-08-19T16:48:53.604700400Z",
     "start_time": "2023-08-19T16:48:49.043502500Z"
    }
   },
   "outputs": [
    {
     "data": {
      "application/vnd.jupyter.widget-view+json": {
       "model_id": "f4df031de9bc4e78827e53e4104bdfff",
       "version_major": 2,
       "version_minor": 0
      },
      "text/plain": [
       "interactive(children=(FloatSlider(value=0.0, description='Left Boundary Change (s):', max=1.0, min=-1.0), Floa…"
      ]
     },
     "metadata": {},
     "output_type": "display_data"
    }
   ],
   "source": [
    "import matplotlib.pyplot as plt\n",
    "import ipywidgets as widgets\n",
    "from IPython.display import display\n",
    "\n",
    "# Function to plot IoU based on left and right boundary changes\n",
    "def plot_iou(left_boundary_change=0, right_boundary_change=0):\n",
    "    # Calculate left and right prediction boundaries\n",
    "    c = c_base + left_boundary_change\n",
    "    d = d_base + right_boundary_change\n",
    "    \n",
    "    # Calculate IoU\n",
    "    iou = corrected_calculate_iou(c, d)\n",
    "    \n",
    "    # Plot target and prediction boundaries\n",
    "    plt.figure(figsize=(12, 4))\n",
    "    plt.plot([a, b], [1, 1], label='Target Boundary', color='blue')\n",
    "    plt.plot([c, d], [0.8, 0.8], label='Prediction Boundary', color='red')\n",
    "    plt.ylim(0.5, 1.1)\n",
    "    plt.xlim(0, 5)\n",
    "    plt.yticks([])\n",
    "    plt.xlabel('Time (s)')\n",
    "    plt.title(f'Left Boundary Change: {left_boundary_change}s, Right Boundary Change: {right_boundary_change}s, IoU: {iou:.3f}')\n",
    "    plt.legend()\n",
    "    plt.show()\n",
    "\n",
    "# Create widgets for left and right boundary changes\n",
    "left_boundary_slider = widgets.FloatSlider(min=-1, max=1, step=0.1, value=0, description='Left Boundary Change (s):')\n",
    "right_boundary_slider = widgets.FloatSlider(min=-1, max=1, step=0.1, value=0, description='Right Boundary Change (s):')\n",
    "\n",
    "# Display interactive plot\n",
    "widgets.interactive(plot_iou, left_boundary_change=left_boundary_slider, right_boundary_change=right_boundary_slider)\n"
   ]
  },
  {
   "cell_type": "code",
   "execution_count": 8,
   "metadata": {},
   "outputs": [
    {
     "data": {
      "application/vnd.jupyter.widget-view+json": {
       "model_id": "b9abbffa9e2d4d278872caa15d608b82",
       "version_major": 2,
       "version_minor": 0
      },
      "text/plain": [
       "interactive(children=(FloatSlider(value=0.0, description='Left Boundary Change (s):', max=1.0, min=-1.0), Outp…"
      ]
     },
     "metadata": {},
     "output_type": "display_data"
    }
   ],
   "source": [
    "import ipywidgets as widgets\n",
    "\n",
    "# Function to plot IoU based on right boundary changes\n",
    "def plot_iou_vs_right_boundary(left_boundary_change=0):\n",
    "    # Define right boundary changes\n",
    "    right_boundary_changes = np.linspace(-1, 1, 100)\n",
    "\n",
    "    # Calculate IoU for different right boundary changes\n",
    "    iou_values = [corrected_calculate_iou(c_base + left_boundary_change, d_base + r) for r in right_boundary_changes]\n",
    "\n",
    "    # Plot IoU vs right boundary changes\n",
    "    plt.figure(figsize=(10, 6))\n",
    "    plt.plot(right_boundary_changes, iou_values, label='IoU vs Right Boundary Change')\n",
    "    plt.xlabel('Right Boundary Change (s)')\n",
    "    plt.ylabel('IoU')\n",
    "    plt.title(f'Impact of Right Boundary Change on IoU\\n(Left Boundary Change: {left_boundary_change}s)')\n",
    "    plt.legend()\n",
    "    plt.grid(True)\n",
    "    plt.show()\n",
    "\n",
    "# Create widget for left boundary change\n",
    "left_boundary_slider = widgets.FloatSlider(min=-1, max=1, step=0.1, value=0, description='Left Boundary Change (s):')\n",
    "\n",
    "# Display interactive plot\n",
    "widgets.interactive(plot_iou_vs_right_boundary, left_boundary_change=left_boundary_slider)\n"
   ]
  },
  {
   "cell_type": "code",
   "execution_count": 11,
   "metadata": {},
   "outputs": [
    {
     "data": {
      "application/vnd.jupyter.widget-view+json": {
       "model_id": "de51971e72ca4002b68bed4ecae0d645",
       "version_major": 2,
       "version_minor": 0
      },
      "text/plain": [
       "interactive(children=(FloatSlider(value=0.0, description='Left Boundary Change (s):', max=1.0, min=-1.0), Outp…"
      ]
     },
     "metadata": {},
     "output_type": "display_data"
    }
   ],
   "source": [
    "import ipywidgets as widgets\n",
    "\n",
    "# Function to plot IoU based on right boundary changes with fixed y-axis\n",
    "def plot_iou_vs_right_boundary_fixed_y(left_boundary_change=0):\n",
    "    # Define right boundary changes\n",
    "    right_boundary_changes = np.linspace(-1, 1, 100)\n",
    "    \n",
    "    # Calculate IoU for different right boundary changes\n",
    "    iou_values = [corrected_calculate_iou(c_base + left_boundary_change, d_base + r) for r in right_boundary_changes]\n",
    "    \n",
    "    # Plot IoU vs right boundary changes\n",
    "    plt.figure(figsize=(10, 6))\n",
    "    plt.plot(right_boundary_changes, iou_values, label='IoU vs Right Boundary Change')\n",
    "    plt.xlabel('Right Boundary Change (s)')\n",
    "    plt.ylabel('IoU')\n",
    "    plt.title(f'Impact of Right Boundary Change on IoU\\n(Left Boundary Change: {left_boundary_change}s)')\n",
    "    plt.ylim(0.3, 1) # Fix the y-axis range\n",
    "    plt.legend()\n",
    "    plt.grid(True)\n",
    "    plt.show()\n",
    "\n",
    "# Create widget for left boundary change\n",
    "left_boundary_slider_fixed_y = widgets.FloatSlider(min=-1, max=1, step=0.1, value=0, description='Left Boundary Change (s):')\n",
    "\n",
    "# Display interactive plot\n",
    "widgets.interactive(plot_iou_vs_right_boundary_fixed_y, left_boundary_change=left_boundary_slider_fixed_y)\n"
   ]
  },
  {
   "cell_type": "code",
   "execution_count": null,
   "metadata": {},
   "outputs": [],
   "source": []
  }
 ],
 "metadata": {
  "kernelspec": {
   "display_name": "Python 3 (ipykernel)",
   "language": "python",
   "name": "python3"
  },
  "language_info": {
   "codemirror_mode": {
    "name": "ipython",
    "version": 3
   },
   "file_extension": ".py",
   "mimetype": "text/x-python",
   "name": "python",
   "nbconvert_exporter": "python",
   "pygments_lexer": "ipython3",
   "version": "3.8.0"
  }
 },
 "nbformat": 4,
 "nbformat_minor": 1
}
